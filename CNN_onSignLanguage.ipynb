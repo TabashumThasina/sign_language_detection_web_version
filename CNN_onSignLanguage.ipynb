{
  "nbformat": 4,
  "nbformat_minor": 0,
  "metadata": {
    "colab": {
      "name": "CNN_onSignLanguage.ipynb",
      "provenance": [],
      "toc_visible": true
    },
    "kernelspec": {
      "name": "python3",
      "display_name": "Python 3"
    },
    "accelerator": "GPU"
  },
  "cells": [
    {
      "cell_type": "code",
      "metadata": {
        "id": "y5Zw5OcfdoiW",
        "colab_type": "code",
        "colab": {}
      },
      "source": [
        "from pydrive.auth import GoogleAuth\n",
        "from pydrive.drive import GoogleDrive\n",
        "from google.colab import auth\n",
        "from oauth2client.client import GoogleCredentials\n",
        "from google.colab import drive"
      ],
      "execution_count": 0,
      "outputs": []
    },
    {
      "cell_type": "code",
      "metadata": {
        "id": "TcctJHcyGivo",
        "colab_type": "code",
        "outputId": "011ff52a-1490-4664-a7a8-fe5aa44c0462",
        "colab": {
          "base_uri": "https://localhost:8080/",
          "height": 34
        }
      },
      "source": [
        "import tensorflow as tf\n",
        "tf.test.gpu_device_name()"
      ],
      "execution_count": 56,
      "outputs": [
        {
          "output_type": "execute_result",
          "data": {
            "text/plain": [
              "'/device:GPU:0'"
            ]
          },
          "metadata": {
            "tags": []
          },
          "execution_count": 56
        }
      ]
    },
    {
      "cell_type": "code",
      "metadata": {
        "id": "lpuiEt_-Gk-u",
        "colab_type": "code",
        "outputId": "0ce4b295-20b2-4d32-b065-2b06e497a59c",
        "colab": {
          "base_uri": "https://localhost:8080/",
          "height": 101
        }
      },
      "source": [
        "!ln -sf /opt/bin/nvidia-smi /usr/bin/nvidia-smi\n",
        "!pip install gputil\n",
        "!pip install psutil\n",
        "!pip install humanize\n",
        "import psutil\n",
        "import humanize\n",
        "import os\n",
        "import GPUtil as GPU\n",
        "GPUs = GPU.getGPUs()\n",
        "# XXX: only one GPU on Colab and isn’t guaranteed\n",
        "gpu = GPUs[0]\n",
        "def printm():\n",
        " process = psutil.Process(os.getpid())\n",
        " print(\"Gen RAM Free: \" + humanize.naturalsize( psutil.virtual_memory().available ), \" | Proc size: \" + humanize.naturalsize( process.memory_info().rss))\n",
        " print(\"GPU RAM Free: {0:.0f}MB | Used: {1:.0f}MB | Util {2:3.0f}% | Total {3:.0f}MB\".format(gpu.memoryFree, gpu.memoryUsed, gpu.memoryUtil*100, gpu.memoryTotal))\n",
        "printm() "
      ],
      "execution_count": 57,
      "outputs": [
        {
          "output_type": "stream",
          "text": [
            "Requirement already satisfied: gputil in /usr/local/lib/python3.6/dist-packages (1.4.0)\n",
            "Requirement already satisfied: psutil in /usr/local/lib/python3.6/dist-packages (5.4.8)\n",
            "Requirement already satisfied: humanize in /usr/local/lib/python3.6/dist-packages (0.5.1)\n",
            "Gen RAM Free: 8.4 GB  | Proc size: 5.1 GB\n",
            "GPU RAM Free: 755MB | Used: 15525MB | Util  95% | Total 16280MB\n"
          ],
          "name": "stdout"
        }
      ]
    },
    {
      "cell_type": "code",
      "metadata": {
        "id": "64YKlys6dzf2",
        "colab_type": "code",
        "outputId": "96642488-4f69-4c21-8789-55c890aee87e",
        "colab": {
          "base_uri": "https://localhost:8080/",
          "height": 34
        }
      },
      "source": [
        "drive.mount('/content/drive')"
      ],
      "execution_count": 58,
      "outputs": [
        {
          "output_type": "stream",
          "text": [
            "Drive already mounted at /content/drive; to attempt to forcibly remount, call drive.mount(\"/content/drive\", force_remount=True).\n"
          ],
          "name": "stdout"
        }
      ]
    },
    {
      "cell_type": "markdown",
      "metadata": {
        "id": "zgBmMU0KpxXH",
        "colab_type": "text"
      },
      "source": [
        "# 1. Importing the libraries\n"
      ]
    },
    {
      "cell_type": "code",
      "metadata": {
        "id": "UwY_rYfipvO7",
        "colab_type": "code",
        "colab": {}
      },
      "source": [
        "from tensorflow.python.keras.preprocessing.image import load_img\n",
        "from tensorflow.python.keras.applications.vgg16 import VGG16\n",
        "from tensorflow.python.keras.preprocessing.image import img_to_array\n",
        "from keras_preprocessing.image import ImageDataGenerator\n",
        "from PIL import Image\n",
        "from keras.models import Sequential\n",
        "from keras.layers import Dense, Conv2D, MaxPool2D , Flatten\n",
        "from keras.preprocessing.image import ImageDataGenerator\n",
        "from keras.optimizers import Adam\n",
        "from keras.callbacks import ModelCheckpoint, EarlyStopping\n",
        "from keras import utils as np_utils\n",
        "from keras.utils.np_utils import to_categorical\n",
        "from sklearn.model_selection import train_test_split\n",
        "from tensorflow.python.keras.applications.vgg16 import preprocess_input\n",
        "import matplotlib.pyplot as plt\n",
        "\n",
        "import numpy as np\n",
        "import keras\n",
        "import os\n",
        "import imghdr\n",
        "import glob\n",
        "import tensorflow as tf"
      ],
      "execution_count": 0,
      "outputs": []
    },
    {
      "cell_type": "markdown",
      "metadata": {
        "id": "eAURd1Z7qrE_",
        "colab_type": "text"
      },
      "source": [
        "# 2 .Loading The Dataset\n",
        "\n"
      ]
    },
    {
      "cell_type": "code",
      "metadata": {
        "id": "UNhdughSqqeD",
        "colab_type": "code",
        "colab": {}
      },
      "source": [
        "path = [\"/content/drive/My Drive/BigDataProject/Resized Dataset/Aj/*.jpg\",\n",
        "        \"/content/drive/My Drive/BigDataProject/Resized Dataset/Ami/*.jpg\",\n",
        "        \"/content/drive/My Drive/BigDataProject/Resized Dataset/Bondhu/*.jpg\",\n",
        "        \"/content/drive/My Drive/BigDataProject/Resized Dataset/Onurodh/*.jpg\",\n",
        "        \"/content/drive/My Drive/BigDataProject/Dataset/কাশি/*.jpg\",\n",
        "        \"/content/drive/My Drive/BigDataProject/Dataset/খাওয়া/*.jpg\",\n",
        "        \"/content/drive/My Drive/BigDataProject/Dataset/বাঁধা দেওয়া/*.jpg\",\n",
        "        \"/content/drive/My Drive/BigDataProject/Dataset/সময়/*.jpg\"]"
      ],
      "execution_count": 0,
      "outputs": []
    },
    {
      "cell_type": "code",
      "metadata": {
        "id": "Ea_a4tNqvcHC",
        "colab_type": "code",
        "outputId": "2d7b9301-d940-4e53-83bd-0882875bfc96",
        "colab": {
          "base_uri": "https://localhost:8080/",
          "height": 34
        }
      },
      "source": [
        "len(path)"
      ],
      "execution_count": 61,
      "outputs": [
        {
          "output_type": "execute_result",
          "data": {
            "text/plain": [
              "8"
            ]
          },
          "metadata": {
            "tags": []
          },
          "execution_count": 61
        }
      ]
    },
    {
      "cell_type": "code",
      "metadata": {
        "id": "L-Md1dzLv307",
        "colab_type": "code",
        "outputId": "87729030-0fe1-43c4-efc4-6a59da6bf67c",
        "colab": {
          "base_uri": "https://localhost:8080/",
          "height": 34
        }
      },
      "source": [
        "label_names = ['Aj','Ami','Bondhu','Onurodh','Kashi','Khawa','Badha_Dewa','Somoi']\n",
        "len(label_names)"
      ],
      "execution_count": 62,
      "outputs": [
        {
          "output_type": "execute_result",
          "data": {
            "text/plain": [
              "8"
            ]
          },
          "metadata": {
            "tags": []
          },
          "execution_count": 62
        }
      ]
    },
    {
      "cell_type": "markdown",
      "metadata": {
        "id": "YV0vDSA0FO2N",
        "colab_type": "text"
      },
      "source": [
        "# 3. Processing Train set and Val set\n"
      ]
    },
    {
      "cell_type": "code",
      "metadata": {
        "id": "yZeHsR77wLG9",
        "colab_type": "code",
        "colab": {}
      },
      "source": [
        "images_dataset =[]\n",
        "labels_dataset = []\n",
        "images = []\n",
        "i=0\n",
        "for p in path:\n",
        "  for filename in glob.glob(p):\n",
        "    im=Image.open(filename)\n",
        "    image = load_img(filename,target_size=(224, 224))\n",
        "    image = img_to_array(image)\n",
        "    # reshape data for the model\n",
        "    \n",
        "    \n",
        "    labels_dataset.append(i)\n",
        "    image = preprocess_input(image)\n",
        "    image = image.reshape((image.shape[0], image.shape[1], image.shape[2]))\n",
        "    images_dataset.append(image)\n",
        "    # images.append(image)\n",
        "  i = i+1"
      ],
      "execution_count": 0,
      "outputs": []
    },
    {
      "cell_type": "code",
      "metadata": {
        "id": "qw_L-btNsYtY",
        "colab_type": "code",
        "outputId": "d4a89058-f748-46ab-92f1-a7e8448de06c",
        "colab": {
          "base_uri": "https://localhost:8080/",
          "height": 50
        }
      },
      "source": [
        "print(len(images_dataset))\n",
        "print((len(labels_dataset))) "
      ],
      "execution_count": 64,
      "outputs": [
        {
          "output_type": "stream",
          "text": [
            "805\n",
            "805\n"
          ],
          "name": "stdout"
        }
      ]
    },
    {
      "cell_type": "code",
      "metadata": {
        "id": "Uc5IxGYYDny8",
        "colab_type": "code",
        "colab": {}
      },
      "source": [
        "Y = np_utils.to_categorical(labels_dataset, 8)"
      ],
      "execution_count": 0,
      "outputs": []
    },
    {
      "cell_type": "code",
      "metadata": {
        "id": "2IklrKU832Ke",
        "colab_type": "code",
        "colab": {}
      },
      "source": [
        "X_train, X_test, y_train, y_test = train_test_split(images_dataset, Y, test_size=0.1, random_state=42)"
      ],
      "execution_count": 0,
      "outputs": []
    },
    {
      "cell_type": "code",
      "metadata": {
        "id": "1c8zxkQIG9jU",
        "colab_type": "code",
        "outputId": "e9e8b0fa-f5c4-4e1f-9507-b4d9fd016f74",
        "colab": {
          "base_uri": "https://localhost:8080/",
          "height": 134
        }
      },
      "source": [
        "Y"
      ],
      "execution_count": 67,
      "outputs": [
        {
          "output_type": "execute_result",
          "data": {
            "text/plain": [
              "array([[1., 0., 0., ..., 0., 0., 0.],\n",
              "       [1., 0., 0., ..., 0., 0., 0.],\n",
              "       [1., 0., 0., ..., 0., 0., 0.],\n",
              "       ...,\n",
              "       [0., 0., 0., ..., 0., 0., 1.],\n",
              "       [0., 0., 0., ..., 0., 0., 1.],\n",
              "       [0., 0., 0., ..., 0., 0., 1.]], dtype=float32)"
            ]
          },
          "metadata": {
            "tags": []
          },
          "execution_count": 67
        }
      ]
    },
    {
      "cell_type": "markdown",
      "metadata": {
        "id": "OJpRXp6qy286",
        "colab_type": "text"
      },
      "source": [
        "# 4. Building the Model\n",
        "\n",
        "\n",
        "\n"
      ]
    },
    {
      "cell_type": "code",
      "metadata": {
        "id": "L6lSvI4ad-O0",
        "colab_type": "code",
        "colab": {}
      },
      "source": [
        "#model = VGG16()\n",
        "model = Sequential()\n",
        "model.add(Conv2D(input_shape=(224,224,3),filters=64,kernel_size=(3,3),padding=\"same\", activation=\"relu\"))\n",
        "model.add(Conv2D(filters=64,kernel_size=(3,3),padding=\"same\", activation=\"relu\"))\n",
        "model.add(MaxPool2D(pool_size=(2,2),strides=(2,2)))\n",
        "model.add(Conv2D(filters=128, kernel_size=(3,3), padding=\"same\", activation=\"relu\"))\n",
        "model.add(Conv2D(filters=128, kernel_size=(3,3), padding=\"same\", activation=\"relu\"))\n",
        "model.add(MaxPool2D(pool_size=(2,2),strides=(2,2)))\n",
        "model.add(Conv2D(filters=256, kernel_size=(3,3), padding=\"same\", activation=\"relu\"))\n",
        "model.add(Conv2D(filters=256, kernel_size=(3,3), padding=\"same\", activation=\"relu\"))\n",
        "model.add(Conv2D(filters=256, kernel_size=(3,3), padding=\"same\", activation=\"relu\"))\n",
        "model.add(MaxPool2D(pool_size=(2,2),strides=(2,2)))\n",
        "model.add(Flatten())\n",
        "model.add(Dense(units=256,activation=\"relu\"))\n",
        "model.add(Dense(units=128,activation=\"relu\"))\n",
        "model.add(Dense(units=8, activation=\"softmax\"))"
      ],
      "execution_count": 0,
      "outputs": []
    },
    {
      "cell_type": "code",
      "metadata": {
        "id": "1Eg4GyuU3Fmo",
        "colab_type": "code",
        "colab": {}
      },
      "source": [
        "# model = Sequential()\n",
        "# model.add(Conv2D(input_shape=(224,224,3),filters=128,kernel_size=(3,3),padding=\"same\", activation=\"relu\"))\n",
        "# model.add(Conv2D(filters=128,kernel_size=(3,3),padding=\"same\", activation=\"relu\"))\n",
        "# model.add(MaxPool2D(pool_size=(2,2),strides=(2,2)))\n",
        "# model.add(Conv2D(filters=64, kernel_size=(3,3), padding=\"same\", activation=\"relu\"))\n",
        "# model.add(Conv2D(filters=64, kernel_size=(3,3), padding=\"same\", activation=\"relu\"))\n",
        "# model.add(MaxPool2D(pool_size=(2,2),strides=(2,2)))\n",
        "# model.add(MaxPool2D(pool_size=(2,2),strides=(2,2)))\n",
        "# model.add(Flatten())\n",
        "# model.add(Dense(256, activation='relu'))\n",
        "# model.add(Dense(128, activation='relu'))\n",
        "# model.add(Dense(64, activation='relu'))\n",
        "# model.add(Dense(8, activation='softmax'))\n"
      ],
      "execution_count": 0,
      "outputs": []
    },
    {
      "cell_type": "code",
      "metadata": {
        "id": "Glo8ny2m3OAA",
        "colab_type": "code",
        "outputId": "8b234540-4e36-4ec4-ceb9-e695fde8c27b",
        "colab": {
          "base_uri": "https://localhost:8080/",
          "height": 622
        }
      },
      "source": [
        "model.summary()"
      ],
      "execution_count": 76,
      "outputs": [
        {
          "output_type": "stream",
          "text": [
            "Model: \"sequential_10\"\n",
            "_________________________________________________________________\n",
            "Layer (type)                 Output Shape              Param #   \n",
            "=================================================================\n",
            "conv2d_70 (Conv2D)           (None, 224, 224, 64)      1792      \n",
            "_________________________________________________________________\n",
            "conv2d_71 (Conv2D)           (None, 224, 224, 64)      36928     \n",
            "_________________________________________________________________\n",
            "max_pooling2d_26 (MaxPooling (None, 112, 112, 64)      0         \n",
            "_________________________________________________________________\n",
            "conv2d_72 (Conv2D)           (None, 112, 112, 128)     73856     \n",
            "_________________________________________________________________\n",
            "conv2d_73 (Conv2D)           (None, 112, 112, 128)     147584    \n",
            "_________________________________________________________________\n",
            "max_pooling2d_27 (MaxPooling (None, 56, 56, 128)       0         \n",
            "_________________________________________________________________\n",
            "conv2d_74 (Conv2D)           (None, 56, 56, 256)       295168    \n",
            "_________________________________________________________________\n",
            "conv2d_75 (Conv2D)           (None, 56, 56, 256)       590080    \n",
            "_________________________________________________________________\n",
            "conv2d_76 (Conv2D)           (None, 56, 56, 256)       590080    \n",
            "_________________________________________________________________\n",
            "max_pooling2d_28 (MaxPooling (None, 28, 28, 256)       0         \n",
            "_________________________________________________________________\n",
            "flatten_10 (Flatten)         (None, 200704)            0         \n",
            "_________________________________________________________________\n",
            "dense_16 (Dense)             (None, 256)               51380480  \n",
            "_________________________________________________________________\n",
            "dense_17 (Dense)             (None, 128)               32896     \n",
            "_________________________________________________________________\n",
            "dense_18 (Dense)             (None, 8)                 1032      \n",
            "=================================================================\n",
            "Total params: 53,149,896\n",
            "Trainable params: 53,149,896\n",
            "Non-trainable params: 0\n",
            "_________________________________________________________________\n"
          ],
          "name": "stdout"
        }
      ]
    },
    {
      "cell_type": "code",
      "metadata": {
        "id": "Q6zWzJPE4ajp",
        "colab_type": "code",
        "colab": {}
      },
      "source": [
        "opt = Adam(lr=0.001)\n",
        "model.compile(optimizer=opt, loss=keras.losses.categorical_crossentropy, metrics=['accuracy'])"
      ],
      "execution_count": 0,
      "outputs": []
    },
    {
      "cell_type": "code",
      "metadata": {
        "id": "4BOu7I0plPKO",
        "colab_type": "code",
        "colab": {}
      },
      "source": [
        "# Directory where the checkpoints will be saved\n",
        "# checkpoint_dir = '/content/drive/My Drive/BigDataProject/trainingcheckpoints'\n",
        "# # Name of the checkpoint files\n",
        "# checkpoint_prefix = os.path.join(checkpoint_dir, \"ckpt_{epoch}\")\n"
      ],
      "execution_count": 0,
      "outputs": []
    },
    {
      "cell_type": "code",
      "metadata": {
        "id": "Wn4NPi0T3mOm",
        "colab_type": "code",
        "colab": {}
      },
      "source": [
        "# checkpoint = ModelCheckpoint(filepath=checkpoint_prefix, \n",
        "#                              monitor='val_acc', \n",
        "#                              verbose=1, save_best_only=False, save_weights_only=False,\n",
        "#                              mode='auto', period=1)\n",
        "early = EarlyStopping(monitor='val_acc', min_delta=0, patience=20, verbose=1, mode='auto')\n"
      ],
      "execution_count": 0,
      "outputs": []
    },
    {
      "cell_type": "code",
      "metadata": {
        "id": "71WNhFcH3uFW",
        "colab_type": "code",
        "outputId": "8b78ab56-8ff4-45ab-bf0f-b3e2bcfc6fd9",
        "colab": {
          "base_uri": "https://localhost:8080/",
          "height": 1000
        }
      },
      "source": [
        "his= model.fit(x=np.array(X_train), y=np.array(y_train), batch_size=16, epochs=50, verbose=1,validation_split=0.1, shuffle=True )"
      ],
      "execution_count": 80,
      "outputs": [
        {
          "output_type": "stream",
          "text": [
            "Train on 651 samples, validate on 73 samples\n",
            "Epoch 1/50\n",
            "651/651 [==============================] - 4s 7ms/step - loss: 0.0150 - accuracy: 0.9954 - val_loss: 1.1045 - val_accuracy: 0.8493\n",
            "Epoch 2/50\n",
            "651/651 [==============================] - 4s 7ms/step - loss: 0.0830 - accuracy: 0.9785 - val_loss: 0.7351 - val_accuracy: 0.7945\n",
            "Epoch 3/50\n",
            "651/651 [==============================] - 4s 7ms/step - loss: 0.0842 - accuracy: 0.9708 - val_loss: 0.5443 - val_accuracy: 0.8630\n",
            "Epoch 4/50\n",
            "651/651 [==============================] - 4s 7ms/step - loss: 0.0731 - accuracy: 0.9770 - val_loss: 0.4600 - val_accuracy: 0.8356\n",
            "Epoch 5/50\n",
            "651/651 [==============================] - 4s 7ms/step - loss: 0.0431 - accuracy: 0.9908 - val_loss: 0.5375 - val_accuracy: 0.8493\n",
            "Epoch 6/50\n",
            "651/651 [==============================] - 4s 7ms/step - loss: 0.0489 - accuracy: 0.9939 - val_loss: 0.4142 - val_accuracy: 0.9041\n",
            "Epoch 7/50\n",
            "651/651 [==============================] - 4s 7ms/step - loss: 0.0027 - accuracy: 0.9985 - val_loss: 0.4499 - val_accuracy: 0.8904\n",
            "Epoch 8/50\n",
            "651/651 [==============================] - 4s 7ms/step - loss: 7.4829e-04 - accuracy: 1.0000 - val_loss: 0.6407 - val_accuracy: 0.8767\n",
            "Epoch 9/50\n",
            "651/651 [==============================] - 4s 7ms/step - loss: 2.5622e-05 - accuracy: 1.0000 - val_loss: 0.6600 - val_accuracy: 0.8904\n",
            "Epoch 10/50\n",
            "651/651 [==============================] - 4s 7ms/step - loss: 6.6479e-06 - accuracy: 1.0000 - val_loss: 0.6706 - val_accuracy: 0.8904\n",
            "Epoch 11/50\n",
            "651/651 [==============================] - 4s 7ms/step - loss: 4.3611e-06 - accuracy: 1.0000 - val_loss: 0.6771 - val_accuracy: 0.8904\n",
            "Epoch 12/50\n",
            "651/651 [==============================] - 4s 7ms/step - loss: 3.3349e-06 - accuracy: 1.0000 - val_loss: 0.6822 - val_accuracy: 0.8904\n",
            "Epoch 13/50\n",
            "651/651 [==============================] - 4s 7ms/step - loss: 2.5940e-06 - accuracy: 1.0000 - val_loss: 0.6861 - val_accuracy: 0.8904\n",
            "Epoch 14/50\n",
            "651/651 [==============================] - 4s 7ms/step - loss: 2.1970e-06 - accuracy: 1.0000 - val_loss: 0.6908 - val_accuracy: 0.9041\n",
            "Epoch 15/50\n",
            "651/651 [==============================] - 4s 7ms/step - loss: 1.9446e-06 - accuracy: 1.0000 - val_loss: 0.6939 - val_accuracy: 0.8904\n",
            "Epoch 16/50\n",
            "651/651 [==============================] - 4s 7ms/step - loss: 1.7375e-06 - accuracy: 1.0000 - val_loss: 0.6980 - val_accuracy: 0.8904\n",
            "Epoch 17/50\n",
            "651/651 [==============================] - 4s 7ms/step - loss: 1.5839e-06 - accuracy: 1.0000 - val_loss: 0.7008 - val_accuracy: 0.8904\n",
            "Epoch 18/50\n",
            "651/651 [==============================] - 4s 7ms/step - loss: 1.4445e-06 - accuracy: 1.0000 - val_loss: 0.7031 - val_accuracy: 0.8904\n",
            "Epoch 19/50\n",
            "651/651 [==============================] - 4s 7ms/step - loss: 1.3288e-06 - accuracy: 1.0000 - val_loss: 0.7062 - val_accuracy: 0.8904\n",
            "Epoch 20/50\n",
            "651/651 [==============================] - 4s 7ms/step - loss: 1.2102e-06 - accuracy: 1.0000 - val_loss: 0.7084 - val_accuracy: 0.9041\n",
            "Epoch 21/50\n",
            "651/651 [==============================] - 4s 7ms/step - loss: 1.1036e-06 - accuracy: 1.0000 - val_loss: 0.7102 - val_accuracy: 0.9041\n",
            "Epoch 22/50\n",
            "651/651 [==============================] - 4s 7ms/step - loss: 9.9813e-07 - accuracy: 1.0000 - val_loss: 0.7111 - val_accuracy: 0.9041\n",
            "Epoch 23/50\n",
            "651/651 [==============================] - 4s 7ms/step - loss: 8.8040e-07 - accuracy: 1.0000 - val_loss: 0.7128 - val_accuracy: 0.8904\n",
            "Epoch 24/50\n",
            "651/651 [==============================] - 4s 7ms/step - loss: 7.9086e-07 - accuracy: 1.0000 - val_loss: 0.7143 - val_accuracy: 0.8904\n",
            "Epoch 25/50\n",
            "651/651 [==============================] - 4s 7ms/step - loss: 7.2677e-07 - accuracy: 1.0000 - val_loss: 0.7162 - val_accuracy: 0.8767\n",
            "Epoch 26/50\n",
            "651/651 [==============================] - 4s 7ms/step - loss: 6.6488e-07 - accuracy: 1.0000 - val_loss: 0.7183 - val_accuracy: 0.8767\n",
            "Epoch 27/50\n",
            "651/651 [==============================] - 4s 7ms/step - loss: 6.1618e-07 - accuracy: 1.0000 - val_loss: 0.7208 - val_accuracy: 0.8767\n",
            "Epoch 28/50\n",
            "651/651 [==============================] - 4s 7ms/step - loss: 5.7021e-07 - accuracy: 1.0000 - val_loss: 0.7236 - val_accuracy: 0.8767\n",
            "Epoch 29/50\n",
            "651/651 [==============================] - 4s 7ms/step - loss: 5.3048e-07 - accuracy: 1.0000 - val_loss: 0.7259 - val_accuracy: 0.8767\n",
            "Epoch 30/50\n",
            "651/651 [==============================] - 4s 7ms/step - loss: 4.9899e-07 - accuracy: 1.0000 - val_loss: 0.7289 - val_accuracy: 0.8767\n",
            "Epoch 31/50\n",
            "651/651 [==============================] - 4s 7ms/step - loss: 4.6676e-07 - accuracy: 1.0000 - val_loss: 0.7311 - val_accuracy: 0.8767\n",
            "Epoch 32/50\n",
            "651/651 [==============================] - 4s 7ms/step - loss: 4.4076e-07 - accuracy: 1.0000 - val_loss: 0.7332 - val_accuracy: 0.8767\n",
            "Epoch 33/50\n",
            "651/651 [==============================] - 4s 7ms/step - loss: 4.1640e-07 - accuracy: 1.0000 - val_loss: 0.7361 - val_accuracy: 0.8767\n",
            "Epoch 34/50\n",
            "651/651 [==============================] - 4s 7ms/step - loss: 3.9278e-07 - accuracy: 1.0000 - val_loss: 0.7386 - val_accuracy: 0.8767\n",
            "Epoch 35/50\n",
            "651/651 [==============================] - 4s 7ms/step - loss: 3.7062e-07 - accuracy: 1.0000 - val_loss: 0.7407 - val_accuracy: 0.8767\n",
            "Epoch 36/50\n",
            "651/651 [==============================] - 4s 7ms/step - loss: 3.5195e-07 - accuracy: 1.0000 - val_loss: 0.7435 - val_accuracy: 0.8767\n",
            "Epoch 37/50\n",
            "651/651 [==============================] - 4s 7ms/step - loss: 3.3290e-07 - accuracy: 1.0000 - val_loss: 0.7456 - val_accuracy: 0.8767\n",
            "Epoch 38/50\n",
            "651/651 [==============================] - 4s 7ms/step - loss: 3.1661e-07 - accuracy: 1.0000 - val_loss: 0.7477 - val_accuracy: 0.8767\n",
            "Epoch 39/50\n",
            "651/651 [==============================] - 4s 7ms/step - loss: 3.0086e-07 - accuracy: 1.0000 - val_loss: 0.7496 - val_accuracy: 0.8767\n",
            "Epoch 40/50\n",
            "651/651 [==============================] - 4s 7ms/step - loss: 2.8603e-07 - accuracy: 1.0000 - val_loss: 0.7524 - val_accuracy: 0.8767\n",
            "Epoch 41/50\n",
            "651/651 [==============================] - 4s 7ms/step - loss: 2.7138e-07 - accuracy: 1.0000 - val_loss: 0.7544 - val_accuracy: 0.8767\n",
            "Epoch 42/50\n",
            "651/651 [==============================] - 4s 7ms/step - loss: 2.5838e-07 - accuracy: 1.0000 - val_loss: 0.7564 - val_accuracy: 0.8767\n",
            "Epoch 43/50\n",
            "651/651 [==============================] - 4s 7ms/step - loss: 2.4647e-07 - accuracy: 1.0000 - val_loss: 0.7589 - val_accuracy: 0.8767\n",
            "Epoch 44/50\n",
            "651/651 [==============================] - 4s 7ms/step - loss: 2.3585e-07 - accuracy: 1.0000 - val_loss: 0.7610 - val_accuracy: 0.8767\n",
            "Epoch 45/50\n",
            "651/651 [==============================] - 4s 7ms/step - loss: 2.2413e-07 - accuracy: 1.0000 - val_loss: 0.7627 - val_accuracy: 0.8767\n",
            "Epoch 46/50\n",
            "651/651 [==============================] - 4s 7ms/step - loss: 2.1461e-07 - accuracy: 1.0000 - val_loss: 0.7650 - val_accuracy: 0.8767\n",
            "Epoch 47/50\n",
            "651/651 [==============================] - 4s 7ms/step - loss: 2.0582e-07 - accuracy: 1.0000 - val_loss: 0.7672 - val_accuracy: 0.8767\n",
            "Epoch 48/50\n",
            "651/651 [==============================] - 4s 7ms/step - loss: 1.9685e-07 - accuracy: 1.0000 - val_loss: 0.7691 - val_accuracy: 0.8767\n",
            "Epoch 49/50\n",
            "651/651 [==============================] - 4s 7ms/step - loss: 1.8788e-07 - accuracy: 1.0000 - val_loss: 0.7717 - val_accuracy: 0.8767\n",
            "Epoch 50/50\n",
            "651/651 [==============================] - 4s 7ms/step - loss: 1.7835e-07 - accuracy: 1.0000 - val_loss: 0.7746 - val_accuracy: 0.8767\n"
          ],
          "name": "stdout"
        }
      ]
    },
    {
      "cell_type": "code",
      "metadata": {
        "id": "t50Y7GQ9qoO1",
        "colab_type": "code",
        "colab": {}
      },
      "source": [
        "# # serialize model to JSON\n",
        "# model_json = model.to_json()\n",
        "# with open(\"model.json\", \"w\") as json_file:\n",
        "#     json_file.write(model_json)\n",
        "# # serialize weights to HDF5\n",
        "# model.save_weights(\"model.h5\")\n",
        "# model.save(\"model1.h5\")\n",
        "# print(\"Saved model to disk\")"
      ],
      "execution_count": 0,
      "outputs": []
    },
    {
      "cell_type": "markdown",
      "metadata": {
        "id": "R-Ut9GvsrS4m",
        "colab_type": "text"
      },
      "source": [
        "# 4. Checking the loss and Accuracy\n"
      ]
    },
    {
      "cell_type": "code",
      "metadata": {
        "id": "nKv6IQnirW4R",
        "colab_type": "code",
        "outputId": "72d3abf3-790b-4cdf-c0e0-cab6e9534166",
        "colab": {
          "base_uri": "https://localhost:8080/",
          "height": 34
        }
      },
      "source": [
        "print(his.history.keys())"
      ],
      "execution_count": 81,
      "outputs": [
        {
          "output_type": "stream",
          "text": [
            "dict_keys(['val_loss', 'val_accuracy', 'loss', 'accuracy'])\n"
          ],
          "name": "stdout"
        }
      ]
    },
    {
      "cell_type": "code",
      "metadata": {
        "id": "vd1_GW53uU8j",
        "colab_type": "code",
        "outputId": "5f17e621-7dba-4955-b731-494d9c4895ba",
        "colab": {
          "base_uri": "https://localhost:8080/",
          "height": 295
        }
      },
      "source": [
        "plt.plot(his.history['loss'])\n",
        "plt.plot(his.history['val_loss'])\n",
        "plt.title('model losss')\n",
        "plt.ylabel('loss')\n",
        "plt.xlabel('epoch')\n",
        "plt.legend(['train', 'val'], loc='best')\n",
        "plt.savefig('/content/drive/My Drive/BigDataProject/loss2.png')\n",
        "plt.show()\n"
      ],
      "execution_count": 82,
      "outputs": [
        {
          "output_type": "display_data",
          "data": {
            "image/png": "[encoded data removed]",
            "text/plain": [
              "<Figure size 432x288 with 1 Axes>"
            ]
          },
          "metadata": {
            "tags": [],
            "needs_background": "light"
          }
        }
      ]
    },
    {
      "cell_type": "code",
      "metadata": {
        "id": "ZSz_qV5Ju5eI",
        "colab_type": "code",
        "outputId": "c1f99cf8-c1a7-4d44-924b-1d996d94a0f0",
        "colab": {
          "base_uri": "https://localhost:8080/",
          "height": 295
        }
      },
      "source": [
        "plt.plot(his.history['accuracy'])\n",
        "plt.plot(his.history['val_accuracy'])\n",
        "plt.title('model accuracy')\n",
        "plt.ylabel('accuracy')\n",
        "plt.xlabel('epoch')\n",
        "plt.legend(['train', 'val'], loc='best')\n",
        "plt.savefig('/content/drive/My Drive/BigDataProject/accuracy2.png')\n",
        "plt.show()"
      ],
      "execution_count": 83,
      "outputs": [
        {
          "output_type": "display_data",
          "data": {
            "image/png": "[encoded data removed]",
            "text/plain": [
              "<Figure size 432x288 with 1 Axes>"
            ]
          },
          "metadata": {
            "tags": [],
            "needs_background": "light"
          }
        }
      ]
    },
    {
      "cell_type": "markdown",
      "metadata": {
        "id": "3T5rRyVGzGoy",
        "colab_type": "text"
      },
      "source": [
        "# 4. Predicting Image\n",
        "\n"
      ]
    },
    {
      "cell_type": "code",
      "metadata": {
        "id": "emqtBVv9fkXr",
        "colab_type": "code",
        "colab": {}
      },
      "source": [
        "yhat = model.predict(np.array(X_test))"
      ],
      "execution_count": 0,
      "outputs": []
    },
    {
      "cell_type": "code",
      "metadata": {
        "id": "0oxb29uQwLSo",
        "colab_type": "code",
        "outputId": "b298ebf8-ea68-4a3b-b37e-8d426d8f6aa0",
        "colab": {
          "base_uri": "https://localhost:8080/",
          "height": 34
        }
      },
      "source": [
        "len(yhat)"
      ],
      "execution_count": 85,
      "outputs": [
        {
          "output_type": "execute_result",
          "data": {
            "text/plain": [
              "81"
            ]
          },
          "metadata": {
            "tags": []
          },
          "execution_count": 85
        }
      ]
    },
    {
      "cell_type": "code",
      "metadata": {
        "id": "4232C4hUc5Dd",
        "colab_type": "code",
        "colab": {}
      },
      "source": [
        "output = []\n",
        "actual_output = []\n",
        "c=0\n",
        "for i in yhat:\n",
        "  output.append(np.argmax(i))\n",
        "  temp = y_test[c]\n",
        "  c=c+1\n",
        "  actual_output.append(np.argmax(temp))\n"
      ],
      "execution_count": 0,
      "outputs": []
    },
    {
      "cell_type": "code",
      "metadata": {
        "id": "xQW9MvHFvkJ7",
        "colab_type": "code",
        "outputId": "18a6b356-a439-4b60-8b23-282b779f2333",
        "colab": {
          "base_uri": "https://localhost:8080/",
          "height": 34
        }
      },
      "source": [
        "from sklearn.metrics import accuracy_score\n",
        "accuracy_score(actual_output, output)"
      ],
      "execution_count": 87,
      "outputs": [
        {
          "output_type": "execute_result",
          "data": {
            "text/plain": [
              "0.9506172839506173"
            ]
          },
          "metadata": {
            "tags": []
          },
          "execution_count": 87
        }
      ]
    },
    {
      "cell_type": "code",
      "metadata": {
        "id": "Vu1DOLotpDjz",
        "colab_type": "code",
        "colab": {}
      },
      "source": [
        "# import pickle\n",
        "# Pkl_Filename = \"Pickle_RL_Model.pkl\"  \n",
        "\n",
        "# with open(Pkl_Filename, 'wb') as file:  \n",
        "#     pickle.dump(model, file)"
      ],
      "execution_count": 0,
      "outputs": []
    },
    {
      "cell_type": "markdown",
      "metadata": {
        "id": "5HF3zWNkb5nD",
        "colab_type": "text"
      },
      "source": [
        "#5 . VGG16 Model\n"
      ]
    },
    {
      "cell_type": "code",
      "metadata": {
        "id": "zRi2OJRSY7h-",
        "colab_type": "code",
        "colab": {}
      },
      "source": [
        "model = Sequential()\n",
        "model.add(Conv2D(input_shape=(224,224,3),filters=64,kernel_size=(3,3),padding=\"same\", activation=\"relu\"))\n",
        "model.add(Conv2D(filters=64,kernel_size=(3,3),padding=\"same\", activation=\"relu\"))\n",
        "model.add(MaxPool2D(pool_size=(2,2),strides=(2,2)))\n",
        "model.add(Conv2D(filters=128, kernel_size=(3,3), padding=\"same\", activation=\"relu\"))\n",
        "model.add(Conv2D(filters=128, kernel_size=(3,3), padding=\"same\", activation=\"relu\"))\n",
        "model.add(MaxPool2D(pool_size=(2,2),strides=(2,2)))\n",
        "model.add(Conv2D(filters=256, kernel_size=(3,3), padding=\"same\", activation=\"relu\"))\n",
        "model.add(Conv2D(filters=256, kernel_size=(3,3), padding=\"same\", activation=\"relu\"))\n",
        "model.add(Conv2D(filters=256, kernel_size=(3,3), padding=\"same\", activation=\"relu\"))\n",
        "model.add(MaxPool2D(pool_size=(2,2),strides=(2,2)))\n",
        "model.add(Conv2D(filters=512, kernel_size=(3,3), padding=\"same\", activation=\"relu\"))\n",
        "model.add(Conv2D(filters=512, kernel_size=(3,3), padding=\"same\", activation=\"relu\"))\n",
        "model.add(Conv2D(filters=512, kernel_size=(3,3), padding=\"same\", activation=\"relu\"))\n",
        "model.add(MaxPool2D(pool_size=(2,2),strides=(2,2)))\n",
        "model.add(Conv2D(filters=512, kernel_size=(3,3), padding=\"same\", activation=\"relu\"))\n",
        "model.add(Conv2D(filters=512, kernel_size=(3,3), padding=\"same\", activation=\"relu\"))\n",
        "model.add(Conv2D(filters=512, kernel_size=(3,3), padding=\"same\", activation=\"relu\"))\n",
        "model.add(MaxPool2D(pool_size=(2,2),strides=(2,2)))\n",
        "model.add(Flatten())\n",
        "model.add(Dense(units=256,activation=\"relu\"))\n",
        "model.add(Dense(units=128,activation=\"relu\"))\n",
        "model.add(Dense(units=8, activation=\"softmax\"))"
      ],
      "execution_count": 0,
      "outputs": []
    },
    {
      "cell_type": "code",
      "metadata": {
        "id": "hQl-T8z9ZA_R",
        "colab_type": "code",
        "colab": {
          "base_uri": "https://localhost:8080/",
          "height": 890
        },
        "outputId": "734dbcbf-e8fe-4434-8700-8bb9ec675926"
      },
      "source": [
        "model.summary()"
      ],
      "execution_count": 89,
      "outputs": [
        {
          "output_type": "stream",
          "text": [
            "Model: \"sequential_11\"\n",
            "_________________________________________________________________\n",
            "Layer (type)                 Output Shape              Param #   \n",
            "=================================================================\n",
            "conv2d_77 (Conv2D)           (None, 224, 224, 64)      1792      \n",
            "_________________________________________________________________\n",
            "conv2d_78 (Conv2D)           (None, 224, 224, 64)      36928     \n",
            "_________________________________________________________________\n",
            "max_pooling2d_29 (MaxPooling (None, 112, 112, 64)      0         \n",
            "_________________________________________________________________\n",
            "conv2d_79 (Conv2D)           (None, 112, 112, 128)     73856     \n",
            "_________________________________________________________________\n",
            "conv2d_80 (Conv2D)           (None, 112, 112, 128)     147584    \n",
            "_________________________________________________________________\n",
            "max_pooling2d_30 (MaxPooling (None, 56, 56, 128)       0         \n",
            "_________________________________________________________________\n",
            "conv2d_81 (Conv2D)           (None, 56, 56, 256)       295168    \n",
            "_________________________________________________________________\n",
            "conv2d_82 (Conv2D)           (None, 56, 56, 256)       590080    \n",
            "_________________________________________________________________\n",
            "conv2d_83 (Conv2D)           (None, 56, 56, 256)       590080    \n",
            "_________________________________________________________________\n",
            "max_pooling2d_31 (MaxPooling (None, 28, 28, 256)       0         \n",
            "_________________________________________________________________\n",
            "conv2d_84 (Conv2D)           (None, 28, 28, 512)       1180160   \n",
            "_________________________________________________________________\n",
            "conv2d_85 (Conv2D)           (None, 28, 28, 512)       2359808   \n",
            "_________________________________________________________________\n",
            "conv2d_86 (Conv2D)           (None, 28, 28, 512)       2359808   \n",
            "_________________________________________________________________\n",
            "max_pooling2d_32 (MaxPooling (None, 14, 14, 512)       0         \n",
            "_________________________________________________________________\n",
            "conv2d_87 (Conv2D)           (None, 14, 14, 512)       2359808   \n",
            "_________________________________________________________________\n",
            "conv2d_88 (Conv2D)           (None, 14, 14, 512)       2359808   \n",
            "_________________________________________________________________\n",
            "conv2d_89 (Conv2D)           (None, 14, 14, 512)       2359808   \n",
            "_________________________________________________________________\n",
            "max_pooling2d_33 (MaxPooling (None, 7, 7, 512)         0         \n",
            "_________________________________________________________________\n",
            "flatten_11 (Flatten)         (None, 25088)             0         \n",
            "_________________________________________________________________\n",
            "dense_19 (Dense)             (None, 256)               6422784   \n",
            "_________________________________________________________________\n",
            "dense_20 (Dense)             (None, 128)               32896     \n",
            "_________________________________________________________________\n",
            "dense_21 (Dense)             (None, 8)                 1032      \n",
            "=================================================================\n",
            "Total params: 21,171,400\n",
            "Trainable params: 21,171,400\n",
            "Non-trainable params: 0\n",
            "_________________________________________________________________\n"
          ],
          "name": "stdout"
        }
      ]
    },
    {
      "cell_type": "code",
      "metadata": {
        "id": "olp5APOAZCZT",
        "colab_type": "code",
        "colab": {}
      },
      "source": [
        "opt = Adam(lr=0.001)\n",
        "model.compile(optimizer=opt, loss=keras.losses.categorical_crossentropy, metrics=['accuracy'])"
      ],
      "execution_count": 0,
      "outputs": []
    },
    {
      "cell_type": "code",
      "metadata": {
        "id": "J9E5L0_ZZFbz",
        "colab_type": "code",
        "colab": {
          "base_uri": "https://localhost:8080/",
          "height": 1000
        },
        "outputId": "48dcc153-c51b-4944-d7e8-69422ca1643a"
      },
      "source": [
        "his= model.fit(x=np.array(X_train), y=np.array(y_train), batch_size=16, epochs=50, callbacks=[early],verbose=1,validation_split=0.1, shuffle=True )"
      ],
      "execution_count": 91,
      "outputs": [
        {
          "output_type": "stream",
          "text": [
            "Train on 651 samples, validate on 73 samples\n",
            "Epoch 1/50\n",
            "651/651 [==============================] - 6s 9ms/step - loss: 8.0086 - accuracy: 0.0937 - val_loss: 2.0789 - val_accuracy: 0.1507\n",
            "Epoch 2/50\n",
            " 16/651 [..............................] - ETA: 4s - loss: 2.0853 - accuracy: 0.0625"
          ],
          "name": "stdout"
        },
        {
          "output_type": "stream",
          "text": [
            "/usr/local/lib/python3.6/dist-packages/keras/callbacks/callbacks.py:846: RuntimeWarning: Early stopping conditioned on metric `val_acc` which is not available. Available metrics are: val_loss,val_accuracy,loss,accuracy\n",
            "  (self.monitor, ','.join(list(logs.keys()))), RuntimeWarning\n"
          ],
          "name": "stderr"
        },
        {
          "output_type": "stream",
          "text": [
            "651/651 [==============================] - 5s 8ms/step - loss: 2.0808 - accuracy: 0.1060 - val_loss: 2.0803 - val_accuracy: 0.1507\n",
            "Epoch 3/50\n",
            "651/651 [==============================] - 5s 8ms/step - loss: 2.0798 - accuracy: 0.1167 - val_loss: 2.0812 - val_accuracy: 0.1096\n",
            "Epoch 4/50\n",
            "651/651 [==============================] - 5s 8ms/step - loss: 2.0792 - accuracy: 0.1167 - val_loss: 2.0816 - val_accuracy: 0.1507\n",
            "Epoch 5/50\n",
            "651/651 [==============================] - 5s 8ms/step - loss: 2.0794 - accuracy: 0.1306 - val_loss: 2.0817 - val_accuracy: 0.1370\n",
            "Epoch 6/50\n",
            "651/651 [==============================] - 5s 8ms/step - loss: 2.0793 - accuracy: 0.1260 - val_loss: 2.0826 - val_accuracy: 0.1507\n",
            "Epoch 7/50\n",
            "651/651 [==============================] - 5s 8ms/step - loss: 2.0793 - accuracy: 0.1275 - val_loss: 2.0824 - val_accuracy: 0.1507\n",
            "Epoch 8/50\n",
            "651/651 [==============================] - 5s 8ms/step - loss: 2.0876 - accuracy: 0.1091 - val_loss: 2.0923 - val_accuracy: 0.1507\n",
            "Epoch 9/50\n",
            "651/651 [==============================] - 5s 8ms/step - loss: 2.0914 - accuracy: 0.1152 - val_loss: 2.0833 - val_accuracy: 0.1096\n",
            "Epoch 10/50\n",
            "651/651 [==============================] - 5s 8ms/step - loss: 2.0797 - accuracy: 0.1198 - val_loss: 2.0832 - val_accuracy: 0.1096\n",
            "Epoch 11/50\n",
            "651/651 [==============================] - 5s 8ms/step - loss: 2.0792 - accuracy: 0.1075 - val_loss: 2.0841 - val_accuracy: 0.1507\n",
            "Epoch 12/50\n",
            "651/651 [==============================] - 5s 8ms/step - loss: 2.0790 - accuracy: 0.1306 - val_loss: 2.0844 - val_accuracy: 0.1507\n",
            "Epoch 13/50\n",
            "651/651 [==============================] - 5s 8ms/step - loss: 2.0791 - accuracy: 0.1167 - val_loss: 2.0857 - val_accuracy: 0.1096\n",
            "Epoch 14/50\n",
            "651/651 [==============================] - 5s 8ms/step - loss: 2.0791 - accuracy: 0.1336 - val_loss: 2.0851 - val_accuracy: 0.1507\n",
            "Epoch 15/50\n",
            "651/651 [==============================] - 5s 8ms/step - loss: 2.0790 - accuracy: 0.1306 - val_loss: 2.0844 - val_accuracy: 0.1507\n",
            "Epoch 16/50\n",
            "651/651 [==============================] - 5s 8ms/step - loss: 2.0789 - accuracy: 0.1306 - val_loss: 2.0854 - val_accuracy: 0.1507\n",
            "Epoch 17/50\n",
            "651/651 [==============================] - 5s 8ms/step - loss: 2.0789 - accuracy: 0.1152 - val_loss: 2.0851 - val_accuracy: 0.1507\n",
            "Epoch 18/50\n",
            "651/651 [==============================] - 5s 8ms/step - loss: 2.0789 - accuracy: 0.1137 - val_loss: 2.0854 - val_accuracy: 0.1507\n",
            "Epoch 19/50\n",
            "651/651 [==============================] - 5s 8ms/step - loss: 2.0790 - accuracy: 0.1306 - val_loss: 2.0856 - val_accuracy: 0.1507\n",
            "Epoch 20/50\n",
            "651/651 [==============================] - 5s 8ms/step - loss: 2.0791 - accuracy: 0.1306 - val_loss: 2.0848 - val_accuracy: 0.1507\n",
            "Epoch 21/50\n",
            "651/651 [==============================] - 5s 8ms/step - loss: 2.0789 - accuracy: 0.1306 - val_loss: 2.0860 - val_accuracy: 0.1507\n",
            "Epoch 22/50\n",
            "651/651 [==============================] - 5s 8ms/step - loss: 2.0794 - accuracy: 0.1306 - val_loss: 2.0849 - val_accuracy: 0.1507\n",
            "Epoch 23/50\n",
            "651/651 [==============================] - 5s 8ms/step - loss: 2.0791 - accuracy: 0.1306 - val_loss: 2.0851 - val_accuracy: 0.1507\n",
            "Epoch 24/50\n",
            "651/651 [==============================] - 5s 8ms/step - loss: 2.0788 - accuracy: 0.1214 - val_loss: 2.0862 - val_accuracy: 0.1507\n",
            "Epoch 25/50\n",
            "651/651 [==============================] - 5s 8ms/step - loss: 2.0790 - accuracy: 0.1260 - val_loss: 2.0858 - val_accuracy: 0.1096\n",
            "Epoch 26/50\n",
            "651/651 [==============================] - 5s 8ms/step - loss: 2.0789 - accuracy: 0.1260 - val_loss: 2.0864 - val_accuracy: 0.1507\n",
            "Epoch 27/50\n",
            "651/651 [==============================] - 5s 8ms/step - loss: 2.0790 - accuracy: 0.1121 - val_loss: 2.0861 - val_accuracy: 0.0822\n",
            "Epoch 28/50\n",
            "651/651 [==============================] - 5s 8ms/step - loss: 2.0789 - accuracy: 0.1183 - val_loss: 2.0860 - val_accuracy: 0.1507\n",
            "Epoch 29/50\n",
            "651/651 [==============================] - 5s 8ms/step - loss: 2.0790 - accuracy: 0.1075 - val_loss: 2.0860 - val_accuracy: 0.1507\n",
            "Epoch 30/50\n",
            "651/651 [==============================] - 5s 8ms/step - loss: 2.0790 - accuracy: 0.1260 - val_loss: 2.0862 - val_accuracy: 0.1096\n",
            "Epoch 31/50\n",
            "651/651 [==============================] - 5s 8ms/step - loss: 2.0790 - accuracy: 0.1214 - val_loss: 2.0862 - val_accuracy: 0.1507\n",
            "Epoch 32/50\n",
            "651/651 [==============================] - 5s 8ms/step - loss: 2.0792 - accuracy: 0.1244 - val_loss: 2.0868 - val_accuracy: 0.1507\n",
            "Epoch 33/50\n",
            "651/651 [==============================] - 5s 8ms/step - loss: 2.0788 - accuracy: 0.1152 - val_loss: 2.0860 - val_accuracy: 0.1096\n",
            "Epoch 34/50\n",
            "651/651 [==============================] - 5s 8ms/step - loss: 2.0789 - accuracy: 0.1152 - val_loss: 2.0857 - val_accuracy: 0.1096\n",
            "Epoch 35/50\n",
            "651/651 [==============================] - 5s 8ms/step - loss: 2.0792 - accuracy: 0.1336 - val_loss: 2.0860 - val_accuracy: 0.1507\n",
            "Epoch 36/50\n",
            "651/651 [==============================] - 5s 8ms/step - loss: 2.0790 - accuracy: 0.1306 - val_loss: 2.0856 - val_accuracy: 0.1507\n",
            "Epoch 37/50\n",
            "651/651 [==============================] - 5s 8ms/step - loss: 2.0790 - accuracy: 0.1152 - val_loss: 2.0858 - val_accuracy: 0.1096\n",
            "Epoch 38/50\n",
            "651/651 [==============================] - 5s 8ms/step - loss: 2.0788 - accuracy: 0.1198 - val_loss: 2.0861 - val_accuracy: 0.1507\n",
            "Epoch 39/50\n",
            "651/651 [==============================] - 5s 8ms/step - loss: 2.0788 - accuracy: 0.1183 - val_loss: 2.0862 - val_accuracy: 0.1096\n",
            "Epoch 40/50\n",
            "651/651 [==============================] - 5s 8ms/step - loss: 2.0790 - accuracy: 0.1121 - val_loss: 2.0863 - val_accuracy: 0.1507\n",
            "Epoch 41/50\n",
            "651/651 [==============================] - 5s 8ms/step - loss: 2.0788 - accuracy: 0.1306 - val_loss: 2.0863 - val_accuracy: 0.1507\n",
            "Epoch 42/50\n",
            "651/651 [==============================] - 5s 8ms/step - loss: 2.0789 - accuracy: 0.1183 - val_loss: 2.0864 - val_accuracy: 0.1096\n",
            "Epoch 43/50\n",
            "651/651 [==============================] - 5s 8ms/step - loss: 2.0788 - accuracy: 0.1214 - val_loss: 2.0863 - val_accuracy: 0.1507\n",
            "Epoch 44/50\n",
            "651/651 [==============================] - 5s 8ms/step - loss: 2.0790 - accuracy: 0.1029 - val_loss: 2.0864 - val_accuracy: 0.1096\n",
            "Epoch 45/50\n",
            "651/651 [==============================] - 5s 8ms/step - loss: 2.0788 - accuracy: 0.1214 - val_loss: 2.0854 - val_accuracy: 0.1507\n",
            "Epoch 46/50\n",
            "651/651 [==============================] - 5s 8ms/step - loss: 2.0790 - accuracy: 0.1152 - val_loss: 2.0864 - val_accuracy: 0.1096\n",
            "Epoch 47/50\n",
            "651/651 [==============================] - 5s 8ms/step - loss: 2.0790 - accuracy: 0.1306 - val_loss: 2.0855 - val_accuracy: 0.1096\n",
            "Epoch 48/50\n",
            "651/651 [==============================] - 5s 8ms/step - loss: 2.0787 - accuracy: 0.1306 - val_loss: 2.0859 - val_accuracy: 0.1096\n",
            "Epoch 49/50\n",
            "651/651 [==============================] - 5s 8ms/step - loss: 2.0790 - accuracy: 0.1244 - val_loss: 2.0860 - val_accuracy: 0.1507\n",
            "Epoch 50/50\n",
            "651/651 [==============================] - 5s 8ms/step - loss: 2.0789 - accuracy: 0.1306 - val_loss: 2.0860 - val_accuracy: 0.1507\n"
          ],
          "name": "stdout"
        }
      ]
    },
    {
      "cell_type": "code",
      "metadata": {
        "id": "ONRz0uL5ZNbr",
        "colab_type": "code",
        "colab": {
          "base_uri": "https://localhost:8080/",
          "height": 295
        },
        "outputId": "1449440a-f9a5-45dc-f636-b42f82ba689b"
      },
      "source": [
        "plt.plot(his.history['loss'])\n",
        "plt.plot(his.history['val_loss'])\n",
        "plt.title('vgg16 model losss')\n",
        "plt.ylabel('loss')\n",
        "plt.xlabel('epoch')\n",
        "plt.legend(['train', 'val'], loc='best')\n",
        "plt.savefig('/content/drive/My Drive/BigDataProject/lossvgg16.png')\n",
        "plt.show()"
      ],
      "execution_count": 92,
      "outputs": [
        {
          "output_type": "display_data",
          "data": {
            "image/png": "[encoded data removed]",
            "text/plain": [
              "<Figure size 432x288 with 1 Axes>"
            ]
          },
          "metadata": {
            "tags": [],
            "needs_background": "light"
          }
        }
      ]
    },
    {
      "cell_type": "code",
      "metadata": {
        "id": "ojI6HfMYZVZT",
        "colab_type": "code",
        "colab": {
          "base_uri": "https://localhost:8080/",
          "height": 295
        },
        "outputId": "38d39a98-85a8-48be-b565-73267f9735c4"
      },
      "source": [
        "plt.plot(his.history['accuracy'])\n",
        "plt.plot(his.history['val_accuracy'])\n",
        "plt.title('vgg16 model accuracy')\n",
        "plt.ylabel('accuracy')\n",
        "plt.xlabel('epoch')\n",
        "plt.legend(['train', 'val'], loc='best')\n",
        "plt.savefig('/content/drive/My Drive/BigDataProject/accuracyvgg16.png')\n",
        "plt.show()"
      ],
      "execution_count": 93,
      "outputs": [
        {
          "output_type": "display_data",
          "data": {
            "image/png": "[encoded data removed]",
            "text/plain": [
              "<Figure size 432x288 with 1 Axes>"
            ]
          },
          "metadata": {
            "tags": [],
            "needs_background": "light"
          }
        }
      ]
    },
    {
      "cell_type": "code",
      "metadata": {
        "id": "acak32AbZa1j",
        "colab_type": "code",
        "colab": {}
      },
      "source": [
        "yhat = model.predict(np.array(X_test))"
      ],
      "execution_count": 0,
      "outputs": []
    },
    {
      "cell_type": "code",
      "metadata": {
        "id": "GQpXNLb4Zczz",
        "colab_type": "code",
        "colab": {
          "base_uri": "https://localhost:8080/",
          "height": 34
        },
        "outputId": "e92fcdbe-0eb6-4f18-ef56-af7a0343752d"
      },
      "source": [
        "len(yhat)"
      ],
      "execution_count": 95,
      "outputs": [
        {
          "output_type": "execute_result",
          "data": {
            "text/plain": [
              "81"
            ]
          },
          "metadata": {
            "tags": []
          },
          "execution_count": 95
        }
      ]
    },
    {
      "cell_type": "code",
      "metadata": {
        "id": "0kXx1bFdZfe8",
        "colab_type": "code",
        "colab": {}
      },
      "source": [
        "output = []\n",
        "actual_output = []\n",
        "c=0\n",
        "for i in yhat:\n",
        "  output.append(np.argmax(i))\n",
        "  temp = y_test[c]\n",
        "  c=c+1\n",
        "  actual_output.append(np.argmax(temp))"
      ],
      "execution_count": 0,
      "outputs": []
    },
    {
      "cell_type": "code",
      "metadata": {
        "id": "D9-77j0hZgG4",
        "colab_type": "code",
        "colab": {
          "base_uri": "https://localhost:8080/",
          "height": 34
        },
        "outputId": "09d704df-304e-4d7d-fe0b-0783eba784dd"
      },
      "source": [
        "accuracy_score(actual_output, output)"
      ],
      "execution_count": 97,
      "outputs": [
        {
          "output_type": "execute_result",
          "data": {
            "text/plain": [
              "0.04938271604938271"
            ]
          },
          "metadata": {
            "tags": []
          },
          "execution_count": 97
        }
      ]
    }
  ]
}